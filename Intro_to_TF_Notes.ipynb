{
  "nbformat": 4,
  "nbformat_minor": 0,
  "metadata": {
    "colab": {
      "name": "Intro to TF Notes.ipynb",
      "provenance": [],
      "toc_visible": true,
      "authorship_tag": "ABX9TyNokeRQ8jdsr796XsWmj3SZ"
    },
    "kernelspec": {
      "name": "python3",
      "display_name": "Python 3"
    }
  },
  "cells": [
    {
      "cell_type": "markdown",
      "metadata": {
        "id": "wOt1YDuC3QN1"
      },
      "source": [
        "# A New Programming Paradigm\n"
      ]
    },
    {
      "cell_type": "markdown",
      "metadata": {
        "id": "wcsVcS8N6Kck"
      },
      "source": [
        "Traditional Programming vs. Machine Learning\n",
        "*   Traditional:       Rules + Data -> Answers\n",
        "*   Machine Learning:  Answers + Data -> Rules\n",
        "\n",
        "A neural network is basically a set of functions which can learn patterns\n",
        "\n",
        "The loss function measures how good or how bad a guess is and then gives the data to the optimizer which figures out the next guess \n",
        "\n",
        "The optimizer thinks about how good or how badly the guess was done using the data from the loss function."
      ]
    },
    {
      "cell_type": "markdown",
      "metadata": {
        "id": "WxcDEOI33v8X"
      },
      "source": [
        "## Template of a TF project\n"
      ]
    },
    {
      "cell_type": "markdown",
      "metadata": {
        "id": "G97JYvUBAAFZ"
      },
      "source": [
        "### Imports"
      ]
    },
    {
      "cell_type": "code",
      "metadata": {
        "id": "m02ryDY1-jn9",
        "outputId": "fc1414b0-b14e-43fc-9a59-6d56e31717f2",
        "colab": {
          "base_uri": "https://localhost:8080/",
          "height": 34
        }
      },
      "source": [
        "import tensorflow as tf\n",
        "import numpy as np\n",
        "from tensorflow import keras\n",
        "print(f'{tf.__version__}')"
      ],
      "execution_count": null,
      "outputs": [
        {
          "output_type": "stream",
          "text": [
            "2.3.0\n"
          ],
          "name": "stdout"
        }
      ]
    },
    {
      "cell_type": "markdown",
      "metadata": {
        "id": "KXV4q9Dy_ufT"
      },
      "source": [
        "### Define and Compile the Neural Network"
      ]
    },
    {
      "cell_type": "code",
      "metadata": {
        "id": "-1Lo7R9F_u2y"
      },
      "source": [
        "model = tf.keras.Sequential([keras.layers.Dense(units=1, input_shape=[1])])\n",
        "model.compile(optimizer='sgd', loss='mean_squared_error')"
      ],
      "execution_count": null,
      "outputs": []
    },
    {
      "cell_type": "markdown",
      "metadata": {
        "id": "H6qsr5QO_vsb"
      },
      "source": [
        "### Providing the Data"
      ]
    },
    {
      "cell_type": "code",
      "metadata": {
        "id": "jT1LrjV6_v3b"
      },
      "source": [
        "xs = np.array([-1.0,  0.0, 1.0, 2.0, 3.0, 4.0], dtype=float)\n",
        "ys = np.array([-3.0, -1.0, 1.0, 3.0, 5.0, 7.0], dtype=float)"
      ],
      "execution_count": null,
      "outputs": []
    },
    {
      "cell_type": "markdown",
      "metadata": {
        "id": "cM-mbM9T_wCN"
      },
      "source": [
        "### Training the Neural Network"
      ]
    },
    {
      "cell_type": "code",
      "metadata": {
        "id": "Q1daqN1r_wVE"
      },
      "source": [
        "model.fit(xs, ys, epochs=500)"
      ],
      "execution_count": null,
      "outputs": []
    },
    {
      "cell_type": "markdown",
      "metadata": {
        "id": "Zq6G2GNFAfps"
      },
      "source": [
        "### Use the trained Neural Network"
      ]
    },
    {
      "cell_type": "code",
      "metadata": {
        "id": "1Iwh1mi3Af3U"
      },
      "source": [
        "print(model.predict([10.0]))"
      ],
      "execution_count": null,
      "outputs": []
    },
    {
      "cell_type": "markdown",
      "metadata": {
        "id": "y83mrCUomsFQ"
      },
      "source": [
        "# Computer Vision\n"
      ]
    },
    {
      "cell_type": "markdown",
      "metadata": {
        "id": "nlz1NbVqOaZV"
      },
      "source": [
        "## Data Loading and Prepration\n",
        "The Fashion MNIST data is available directly in the tf.keras datasets API.  Calling load_data on the object will give you two sets of two lists, these will be the training and testing values for the graphics that contain the clothing items and their labels.  We normalize input data for performance reasons\n"
      ]
    },
    {
      "cell_type": "code",
      "metadata": {
        "id": "v_VU--ksPyP8"
      },
      "source": [
        "mnist = tf.keras.datasets.fashion_mnist\n",
        "(training_images, training_labels), (test_images, test_labels) = mnist.load_data()\n",
        "training_images  = training_images / 255.0\n",
        "test_images = test_images / 255.0"
      ],
      "execution_count": null,
      "outputs": []
    },
    {
      "cell_type": "markdown",
      "metadata": {
        "id": "TFgl6TmFUj6t"
      },
      "source": [
        "## Design, Build, Train and Evaluate the model "
      ]
    },
    {
      "cell_type": "code",
      "metadata": {
        "id": "s_Gp23xaUqGQ"
      },
      "source": [
        "model = tf.keras.models.Sequential([tf.keras.layers.Flatten(), \n",
        "                                    tf.keras.layers.Dense(128, activation=tf.nn.relu), \n",
        "                                    tf.keras.layers.Dense(10, activation=tf.nn.softmax)])\n",
        "\n",
        "model.compile(optimizer = tf.optimizers.Adam(),\n",
        "              loss = 'sparse_categorical_crossentropy',\n",
        "              metrics=['accuracy'])\n",
        "\n",
        "model.fit(training_images, training_labels, epochs=5)\n",
        "\n",
        "model.evaluate(test_images, test_labels)"
      ],
      "execution_count": null,
      "outputs": []
    },
    {
      "cell_type": "markdown",
      "metadata": {
        "id": "mwut80g9Uwdb"
      },
      "source": [
        "**Sequential**: This defines a SEQUENCE of layers in the neural network\n",
        "\n",
        "**Flatten**: Flatten just takes that 2 dimensional data and turns it into a 1 dimensional set\n",
        "\n",
        "**Dense**: Adds a layer of neurons\n",
        "\n",
        "Each layer of neurons need an **activation function** to tell them what to do. \n",
        "\n",
        "**Relu** effectively means \"If X>0 return X, else return 0\" -- so what it does it it only passes values 0 or greater to the next layer in the network.\n",
        "\n",
        "**Softmax** takes a set of values, and effectively picks the biggest one, so, for example, if the output of the last layer looks like [0.1, 0.1, 0.05, 0.1, 9.5, 0.1, 0.05, 0.05, 0.05], it saves you from fishing through it looking for the biggest value, and turns it into [0,0,0,0,1,0,0,0,0] "
      ]
    },
    {
      "cell_type": "markdown",
      "metadata": {
        "id": "vbNdYw-HQr5k"
      },
      "source": [
        "## Callbacks for breaking the training "
      ]
    },
    {
      "cell_type": "code",
      "metadata": {
        "id": "ICBrIu2bQ5lq"
      },
      "source": [
        "class myCallback(tf.keras.callbacks.Callback):\n",
        "  def on_epoch_end(self, epoch, logs={}):\n",
        "    if(logs.get('accuracy')>0.9):\n",
        "      print(\"\\nReached 90% accuracy so cancelling training!\")\n",
        "      self.model.stop_training = True\n",
        "\n",
        "callbacks = myCallback()\n",
        "\n",
        "...\n",
        "\n",
        "model.fit(x_train, y_train, epochs=10, callbacks=[callbacks])"
      ],
      "execution_count": null,
      "outputs": []
    },
    {
      "cell_type": "markdown",
      "metadata": {
        "id": "MfwMRvpobczt"
      },
      "source": [
        "# Enhanced Vision with Convolutional Neural Networks"
      ]
    },
    {
      "cell_type": "markdown",
      "metadata": {
        "id": "HcmBjiE53aPA"
      },
      "source": [
        "Conv2D and MaxPolloing2D are added before Flatten and Dense layers, and then the information going to the dense layers is more focussed, and possibly more accurate. First convolution expects a single tensor containing everything, so instead of 60,000 28x28x1 items in a list, we have a single 4D list that is 60,000x28x28x1 using reshape() \n",
        "\n",
        "Use model.summary() to see parameters used in the model"
      ]
    },
    {
      "cell_type": "code",
      "metadata": {
        "id": "F0r7jGrwEHhm"
      },
      "source": [
        "mnist = tf.keras.datasets.fashion_mnist\n",
        "(training_images, training_labels), (test_images, test_labels) = mnist.load_data()\n",
        "training_images=training_images.reshape(60000, 28, 28, 1)\n",
        "training_images=training_images / 255.0\n",
        "test_images = test_images.reshape(10000, 28, 28, 1)\n",
        "test_images=test_images/255.0\n",
        "\n",
        "model = tf.keras.models.Sequential([\n",
        "  tf.keras.layers.Conv2D(128, (3,3), activation='relu', input_shape=(28, 28, 1)),\n",
        "  tf.keras.layers.MaxPooling2D(2, 2),\n",
        "  tf.keras.layers.Conv2D(128, (3,3), activation='relu'),\n",
        "  tf.keras.layers.MaxPooling2D(2,2),\n",
        "  tf.keras.layers.Flatten(),\n",
        "  tf.keras.layers.Dense(128, activation='relu'),\n",
        "  tf.keras.layers.Dense(10, activation='softmax')\n",
        "])\n",
        "\n",
        "model.summary()"
      ],
      "execution_count": null,
      "outputs": []
    },
    {
      "cell_type": "markdown",
      "metadata": {
        "id": "1_TU_RBLbffS"
      },
      "source": [
        "## New Section"
      ]
    },
    {
      "cell_type": "markdown",
      "metadata": {
        "id": "MmiRrXlbbgME"
      },
      "source": [
        "# New Section"
      ]
    },
    {
      "cell_type": "markdown",
      "metadata": {
        "id": "wmNpYaFxn6bJ"
      },
      "source": [
        ""
      ]
    }
  ]
}